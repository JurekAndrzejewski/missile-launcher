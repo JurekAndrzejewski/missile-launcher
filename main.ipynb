{
 "cells": [
  {
   "cell_type": "markdown",
   "metadata": {},
   "source": [
    "Znalazłem bibliotekę w Pythonie od tego https://github.com/pyusb/pyusb. \n",
    "Potem jakieś problemy z backendem, dużo wywalało \"no backend available\".\n",
    "Znalazłem libusb https://libusb.info/ libusb is a C library that provides generic access to USB devices. Wziąłem dlla, dodałem do zmiennych środowiskowych i zaczęło działać."
   ]
  },
  {
   "cell_type": "markdown",
   "metadata": {},
   "source": [
    "Korzystając z dokumentacji od pyusb, znalazłem przydatne funkcje"
   ]
  },
  {
   "cell_type": "code",
   "execution_count": null,
   "metadata": {},
   "outputs": [],
   "source": [
    "import usb.core\n",
    "\n",
    "print(usb.core.show_devices())\n",
    "\n",
    "for device in usb.core.find(find_all=True):\n",
    "    print(device)"
   ]
  },
  {
   "cell_type": "markdown",
   "metadata": {},
   "source": [
    "Pokaż urządzenia z podłączonym missile launcherem i bez, porównaj - vendor ID i model ID znane."
   ]
  },
  {
   "cell_type": "code",
   "execution_count": null,
   "metadata": {},
   "outputs": [],
   "source": [
    "dev = usb.core.find(idVendor=0x0a81, idProduct=0x0701)\n",
    "if dev is None:\n",
    "    raise ValueError('Device not found')\n",
    "print(dev)"
   ]
  },
  {
   "cell_type": "markdown",
   "metadata": {},
   "source": [
    "Jedna konfiguracja, jeden interfejs, jeden endpoint. Zdziwiłem się, że tylko jeden endpoint do odsłuchiwania, ale jak próbowałem coś z niego wyciągnąć to nie wypluwał żadnego info."
   ]
  },
  {
   "cell_type": "markdown",
   "metadata": {},
   "source": [
    "Chatgpt podpowiedział, ale wszystko jest w dokumentacji usb i tutaj https://www.beyondlogic.org/usbnutshell/usb6.shtml#StandardInterfaceRequests:\n",
    "Control Transfer Parameters:\n",
    "bmRequestType: 0x21 (Host to Device, Class, Interface)\n",
    "bRequest: 0x09 (This is often the \"Set_Report\" request for HID devices, used to send data)\n",
    "wValue: 0x0200 (Indicates that you're sending an output report)\n",
    "wIndex: Interface number, usually 0 for simple devices\n",
    "data: The data you want to send (in this case, a simple 1-byte array [0x01])"
   ]
  },
  {
   "cell_type": "code",
   "execution_count": null,
   "metadata": {},
   "outputs": [],
   "source": [
    "data = [0x01]\n",
    "dev.ctrl_transfer(0x21, 0x09, 0x0200, 0, data)"
   ]
  },
  {
   "cell_type": "markdown",
   "metadata": {},
   "source": [
    "Ok, pierwszy ruch. Potem wartości od 0 do 255 puszczałem i patrzyłem co się dzieje, mniej więcej tym kodem, ale nie pamiętam do końca"
   ]
  },
  {
   "cell_type": "code",
   "execution_count": 3,
   "metadata": {},
   "outputs": [
    {
     "name": "stdout",
     "output_type": "stream",
     "text": [
      "Press 'Enter' to send data. Press 'Esc' to exit.\n",
      "Sent data: 0x0\n",
      "Sent data: 0x1\n",
      "Exiting...\n"
     ]
    }
   ],
   "source": [
    "import usb.core\n",
    "import usb.util\n",
    "import keyboard  # Import the keyboard library\n",
    "import time\n",
    "\n",
    "# Find the device\n",
    "dev = usb.core.find(idVendor=0x0a81, idProduct=0x0701)\n",
    "\n",
    "if dev is None:\n",
    "    raise ValueError('Device not found')\n",
    "\n",
    "# Set configuration (assuming there's only one configuration)\n",
    "dev.set_configuration()\n",
    "\n",
    "# Initialize the value to send\n",
    "value = 0\n",
    "\n",
    "print(\"Press 'shift' to send data. Press 'Esc' to exit.\")\n",
    "\n",
    "# Loop to listen for keyboard events\n",
    "while True:\n",
    "    # Wait for 'shift' key press\n",
    "    if keyboard.is_pressed('shift'):\n",
    "\n",
    "        # Prepare the data to send (single byte)\n",
    "        data = [value]  # Create a list with the current byte value\n",
    "\n",
    "        try:\n",
    "            # Control transfer to send data\n",
    "            dev.ctrl_transfer(0x21, 0x09, 0x0200, 0, data)\n",
    "            print(f\"Sent data: {hex(value)}\")  # Print the value sent in hex\n",
    "\n",
    "            # Increment the value, reset to 0 if it exceeds 255\n",
    "            value = (value + 1) % 256\n",
    "\n",
    "            # Wait a moment to prevent multiple sends from a single key press\n",
    "            #keyboard.wait('shift', suppress=True)  # Wait for release of 'shift'\n",
    "\n",
    "        except usb.core.USBError as e:\n",
    "            print(f\"Error sending data {hex(value)}: {e}\")\n",
    "\n",
    "    # Allow user to exit with 'Esc' key\n",
    "    elif keyboard.is_pressed('esc'):\n",
    "        print(\"Exiting...\")\n",
    "        break\n",
    "    time.sleep(0.1)"
   ]
  },
  {
   "cell_type": "markdown",
   "metadata": {},
   "source": [
    "0x4 lewo \n",
    "0x8 prawo\n",
    "0x2 góra \n",
    "0x1 dół\n",
    "0x10 strzał\n",
    "0x20 stop\n",
    "Wszystko miałem, jakieś proste GUI i działa."
   ]
  }
 ],
 "metadata": {
  "kernelspec": {
   "display_name": "Python 3",
   "language": "python",
   "name": "python3"
  },
  "language_info": {
   "codemirror_mode": {
    "name": "ipython",
    "version": 3
   },
   "file_extension": ".py",
   "mimetype": "text/x-python",
   "name": "python",
   "nbconvert_exporter": "python",
   "pygments_lexer": "ipython3",
   "version": "3.12.5"
  }
 },
 "nbformat": 4,
 "nbformat_minor": 2
}
